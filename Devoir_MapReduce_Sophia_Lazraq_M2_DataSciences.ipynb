{
 "cells": [
  {
   "cell_type": "code",
   "execution_count": 22,
   "metadata": {
    "collapsed": false
   },
   "outputs": [
    {
     "name": "stdout",
     "output_type": "stream",
     "text": [
      "[[1, 'Auroville wants to be a universal town where men and women of all countries'], [2, 'are able to live in peace and progressive harmony above all creeds and all'], [3, 'politics and all nationalities'], [4, 'The purpose of Auroville is to realise human unity'], [5, ' Auroville is a universal township in the making for a population of up to'], [6, ' 50000 people from around the world'], [7, ' The concept of Auroville an ideal township devoted to an experiment in human unity came to the Mother as early as the 1930s']]\n"
     ]
    }
   ],
   "source": [
    "#Function that takes a file.txt as entry and returns a list(k1,v1) corresponding to each number of the line and its text\n",
    "#input=fichier_texte--> output=list(ki,vi) where i from 0 to nb of lines of fichier texte\n",
    "def Input_reader(fichier_texte):\n",
    "    list_k1=[]\n",
    "    index_ligne=1\n",
    "    for i in fichier_texte:\n",
    "        list_k1.append([index_ligne,i.rstrip('\\n\\r')])\n",
    "        index_ligne=index_ligne+1\n",
    "    return(list_k1)\n",
    "    \n",
    "#Test of Input_reader on the chosen file    \n",
    "test_Input_reader=open(\"C:/Users/Sophia/Desktop/texte_Sophia.txt\",\"r\")\n",
    "print(Input_reader(test_Input_reader))\n"
   ]
  },
  {
   "cell_type": "code",
   "execution_count": 23,
   "metadata": {
    "collapsed": false
   },
   "outputs": [
    {
     "name": "stdout",
     "output_type": "stream",
     "text": [
      "[('are', 1), ('able', 1), ('to', 1), ('live', 1), ('in', 1), ('peace', 1), ('and', 1), ('progressive', 1), ('harmony', 1), ('above', 1), ('all', 1), ('creeds', 1), ('and', 1), ('all', 1)]\n"
     ]
    }
   ],
   "source": [
    "#Function that split a line v1 into words and returns a list of tuples (word present in line v1,1)\n",
    "#input= (k1,v1)-->output= list(k2,v2)\n",
    "def my_map(k1,v1):\n",
    "    list_map=[]\n",
    "    list_split=v1.split()\n",
    "    for j in range(len(list_split)):\n",
    "        list_map.append((list_split[j],1))\n",
    "    return(list_map) \n",
    "\n",
    "#Test of the map function on the second line of the chosen file\n",
    "k_test=2\n",
    "v_test=\"are able to live in peace and progressive harmony above all creeds and all\"\n",
    "print(my_map(k_test,v_test))"
   ]
  },
  {
   "cell_type": "code",
   "execution_count": 24,
   "metadata": {
    "collapsed": false
   },
   "outputs": [
    {
     "name": "stdout",
     "output_type": "stream",
     "text": [
      "[('able', 1), ('to', 1), ('in', 1), ('peace', 1), ('and', 1), ('progressive', 1), ('harmony', 1), ('above', 1), ('all', 1), ('creeds', 1), ('and', 1), ('all', 1)]\n"
     ]
    }
   ],
   "source": [
    "#Intermediate function that removes elements of indexes in index from a given list ma_liste\n",
    "def supprimer_from_liste(ma_liste=[],mon_index=[]):\n",
    "    compt=0\n",
    "    for l in mon_index:\n",
    "        ma_liste.remove(ma_liste[l-compt])\n",
    "        compt=compt+1\n",
    "    return (ma_liste)\n",
    "\n",
    "#Test of the function supprimer_from_liste --> removes words in position 0 and 3 from the second line of the chosen file\n",
    "suppression=[('are', 1), ('able', 1), ('to', 1), ('live', 1), ('in', 1), ('peace', 1), ('and', 1), ('progressive', 1), ('harmony', 1), ('above', 1), ('all', 1), ('creeds', 1), ('and', 1), ('all', 1)]\n",
    "print(supprimer_from_liste(suppression,[0,3]))"
   ]
  },
  {
   "cell_type": "code",
   "execution_count": 25,
   "metadata": {
    "collapsed": false
   },
   "outputs": [
    {
     "name": "stdout",
     "output_type": "stream",
     "text": [
      "[('are', [1]), ('able', [1]), ('to', [1]), ('live', [1]), ('in', [1]), ('peace', [1]), ('and', [1, 1]), ('progressive', [1]), ('harmony', [1]), ('above', [1]), ('all', [1, 1]), ('creeds', [1])]\n"
     ]
    }
   ],
   "source": [
    "#Function sort_shuffle that is implemented when every node_mapper has finished its task\n",
    "#input=list containing the result of all mappers-->output=(word,[1,1,...]) for every word in the input_file\n",
    "def shuffle_sort(all_mappers=[]):\n",
    "    temp_size=len(all_mappers)\n",
    "    list_ss=[]\n",
    "    while temp_size >0:\n",
    "        counter=0\n",
    "        index_supp=[]\n",
    "        for j in range(temp_size):\n",
    "            if (all_mappers[0])[0]==(all_mappers[j])[0]:\n",
    "                counter=counter+1\n",
    "                index_supp.append(j)\n",
    "        list_ss.append(((all_mappers[0])[0],[1]*counter))\n",
    "        supprimer_from_liste(all_mappers,index_supp) \n",
    "        temp_size=len(all_mappers)\n",
    "    return(list_ss)\n",
    "\n",
    "#Test of the function shuffle_sort on line 2 in this example but actually it takes all the lines when mapped\n",
    "test_ss=[('are', 1), ('able', 1), ('to', 1), ('live', 1), ('in', 1), ('peace', 1), ('and', 1), ('progressive', 1), ('harmony', 1), ('above', 1), ('all', 1), ('creeds', 1), ('and', 1), ('all', 1)]\n",
    "print(shuffle_sort(test_ss))\n"
   ]
  },
  {
   "cell_type": "code",
   "execution_count": 27,
   "metadata": {
    "collapsed": false
   },
   "outputs": [
    {
     "name": "stdout",
     "output_type": "stream",
     "text": [
      "('Auroville', 4)\n"
     ]
    }
   ],
   "source": [
    "#Function that ,in this particular case,sums the numbers in a given list\n",
    "#input=(k2,v2)-->output=list(k3,v3)\n",
    "def my_reduce(k2,v2):\n",
    "    list_reduced=()\n",
    "    compt=0\n",
    "    for h in v2:\n",
    "        compt=compt+1\n",
    "        list_reduced=(k2,compt)\n",
    "    return(list_reduced)\n",
    "\n",
    "k2_test=\"Auroville\"\n",
    "v2_test=[1,1,1,1]\n",
    "print(my_reduce(k2_test,v2_test))"
   ]
  },
  {
   "cell_type": "code",
   "execution_count": 47,
   "metadata": {
    "collapsed": false
   },
   "outputs": [
    {
     "name": "stdout",
     "output_type": "stream",
     "text": [
      "Auroville 4\n",
      "India 2\n",
      "Peace 1\n"
     ]
    }
   ],
   "source": [
    "#Function Output writer\n",
    "def Output_writer(all_reducers=[]):\n",
    "    long=len(all_reducers)\n",
    "    for w in range(long):\n",
    "        print(all_reducers[w][0],all_reducers[w][1])\n",
    "\n",
    "#Test of Output writer on 3 reducers        \n",
    "test_all_reducers=[(\"Auroville\",4),(\"India\",2),(\"Peace\",1)]\n",
    "Output_writer(test_all_reducers)"
   ]
  },
  {
   "cell_type": "code",
   "execution_count": null,
   "metadata": {
    "collapsed": true
   },
   "outputs": [],
   "source": [
    "#MON MAIN"
   ]
  }
 ],
 "metadata": {
  "anaconda-cloud": {},
  "kernelspec": {
   "display_name": "Python [Root]",
   "language": "python",
   "name": "Python [Root]"
  },
  "language_info": {
   "codemirror_mode": {
    "name": "ipython",
    "version": 3
   },
   "file_extension": ".py",
   "mimetype": "text/x-python",
   "name": "python",
   "nbconvert_exporter": "python",
   "pygments_lexer": "ipython3",
   "version": "3.5.2"
  }
 },
 "nbformat": 4,
 "nbformat_minor": 0
}
